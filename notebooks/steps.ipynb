{
  "nbformat": 4,
  "nbformat_minor": 0,
  "metadata": {
    "colab": {
      "provenance": [],
      "collapsed_sections": [
        "XKhuOh2kN1jC"
      ],
      "gpuType": "T4"
    },
    "kernelspec": {
      "name": "python3",
      "display_name": "Python 3"
    },
    "language_info": {
      "name": "python"
    },
    "accelerator": "GPU"
  },
  "cells": [
    {
      "cell_type": "markdown",
      "source": [
        "# Step 1\n",
        "Install coqui xtts and the dependences for it"
      ],
      "metadata": {
        "id": "XKhuOh2kN1jC"
      }
    },
    {
      "cell_type": "code",
      "execution_count": null,
      "metadata": {
        "id": "fzekaC1gNlGe"
      },
      "outputs": [],
      "source": [
        "!rm -rf TTS/ # delete repo to be able to reinstall if needed\n",
        "!git clone --branch xtts_demo -q https://github.com/coqui-ai/TTS.git\n",
        "!pip install --use-deprecated=legacy-resolver -q -e TTS\n",
        "!pip install --use-deprecated=legacy-resolver -q -r TTS/TTS/demos/xtts_ft_demo/requirements.txt\n",
        "!pip install -q typing_extensions==4.8 numpy==1.26.2\n",
        "!pip install transformers -U\n",
        "!apt install libcublas11"
      ]
    },
    {
      "cell_type": "markdown",
      "source": [
        "# Step 2\n",
        "Generate the dataset"
      ],
      "metadata": {
        "id": "C1f1xauRa6Zo"
      }
    },
    {
      "cell_type": "code",
      "source": [
        "!python makeDataset.py"
      ],
      "metadata": {
        "colab": {
          "base_uri": "https://localhost:8080/",
          "height": 0
        },
        "id": "HxnC5QsvQ0UV",
        "outputId": "89883a76-73a0-445e-e7de-0be86eeefff8"
      },
      "execution_count": 14,
      "outputs": [
        {
          "output_type": "stream",
          "name": "stdout",
          "text": [
            "\n",
            "Try to read the raw dataset, expected format:\n",
            "audio_path,speaker_name,lang\n",
            "audio_path,speaker_name,lang\n",
            "audio_path,speaker_name,lang\n",
            "audio_path,speaker_name,lang\n",
            "\n",
            "Loading Whisper Model!\n",
            "Processing line: 0\n",
            "Processing line: 1\n",
            "Processing line: 2\n",
            "\u001b[0m"
          ]
        }
      ]
    },
    {
      "cell_type": "code",
      "source": [],
      "metadata": {
        "id": "MZgIt_Sga71M"
      },
      "execution_count": null,
      "outputs": []
    },
    {
      "cell_type": "code",
      "source": [
        "!rm -rf output\n"
      ],
      "metadata": {
        "id": "vmRr6N30X6Qc"
      },
      "execution_count": 13,
      "outputs": []
    }
  ]
}